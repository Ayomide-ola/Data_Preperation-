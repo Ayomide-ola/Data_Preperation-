{
 "cells": [
  {
   "cell_type": "code",
   "execution_count": 1,
   "metadata": {},
   "outputs": [],
   "source": [
    "import pandas as pd\n",
    "import numpy as np"
   ]
  },
  {
   "cell_type": "code",
   "execution_count": 3,
   "metadata": {},
   "outputs": [],
   "source": [
    "df = pd.read_csv(\"data/BL-Flickr-Images-Book.csv\")"
   ]
  },
  {
   "cell_type": "code",
   "execution_count": 4,
   "metadata": {},
   "outputs": [
    {
     "data": {
      "text/html": [
       "<div>\n",
       "<style scoped>\n",
       "    .dataframe tbody tr th:only-of-type {\n",
       "        vertical-align: middle;\n",
       "    }\n",
       "\n",
       "    .dataframe tbody tr th {\n",
       "        vertical-align: top;\n",
       "    }\n",
       "\n",
       "    .dataframe thead th {\n",
       "        text-align: right;\n",
       "    }\n",
       "</style>\n",
       "<table border=\"1\" class=\"dataframe\">\n",
       "  <thead>\n",
       "    <tr style=\"text-align: right;\">\n",
       "      <th></th>\n",
       "      <th>Identifier</th>\n",
       "      <th>Edition Statement</th>\n",
       "      <th>Place of Publication</th>\n",
       "      <th>Date of Publication</th>\n",
       "      <th>Publisher</th>\n",
       "      <th>Title</th>\n",
       "      <th>Author</th>\n",
       "      <th>Contributors</th>\n",
       "      <th>Corporate Author</th>\n",
       "      <th>Corporate Contributors</th>\n",
       "      <th>Former owner</th>\n",
       "      <th>Engraver</th>\n",
       "      <th>Issuance type</th>\n",
       "      <th>Flickr URL</th>\n",
       "      <th>Shelfmarks</th>\n",
       "    </tr>\n",
       "  </thead>\n",
       "  <tbody>\n",
       "    <tr>\n",
       "      <th>0</th>\n",
       "      <td>206</td>\n",
       "      <td>NaN</td>\n",
       "      <td>London</td>\n",
       "      <td>1879 [1878]</td>\n",
       "      <td>S. Tinsley &amp; Co.</td>\n",
       "      <td>Walter Forbes. [A novel.] By A. A</td>\n",
       "      <td>A. A.</td>\n",
       "      <td>FORBES, Walter.</td>\n",
       "      <td>NaN</td>\n",
       "      <td>NaN</td>\n",
       "      <td>NaN</td>\n",
       "      <td>NaN</td>\n",
       "      <td>monographic</td>\n",
       "      <td>http://www.flickr.com/photos/britishlibrary/ta...</td>\n",
       "      <td>British Library HMNTS 12641.b.30.</td>\n",
       "    </tr>\n",
       "    <tr>\n",
       "      <th>1</th>\n",
       "      <td>216</td>\n",
       "      <td>NaN</td>\n",
       "      <td>London; Virtue &amp; Yorston</td>\n",
       "      <td>1868</td>\n",
       "      <td>Virtue &amp; Co.</td>\n",
       "      <td>All for Greed. [A novel. The dedication signed...</td>\n",
       "      <td>A., A. A.</td>\n",
       "      <td>BLAZE DE BURY, Marie Pauline Rose - Baroness</td>\n",
       "      <td>NaN</td>\n",
       "      <td>NaN</td>\n",
       "      <td>NaN</td>\n",
       "      <td>NaN</td>\n",
       "      <td>monographic</td>\n",
       "      <td>http://www.flickr.com/photos/britishlibrary/ta...</td>\n",
       "      <td>British Library HMNTS 12626.cc.2.</td>\n",
       "    </tr>\n",
       "    <tr>\n",
       "      <th>2</th>\n",
       "      <td>218</td>\n",
       "      <td>NaN</td>\n",
       "      <td>London</td>\n",
       "      <td>1869</td>\n",
       "      <td>Bradbury, Evans &amp; Co.</td>\n",
       "      <td>Love the Avenger. By the author of “All for Gr...</td>\n",
       "      <td>A., A. A.</td>\n",
       "      <td>BLAZE DE BURY, Marie Pauline Rose - Baroness</td>\n",
       "      <td>NaN</td>\n",
       "      <td>NaN</td>\n",
       "      <td>NaN</td>\n",
       "      <td>NaN</td>\n",
       "      <td>monographic</td>\n",
       "      <td>http://www.flickr.com/photos/britishlibrary/ta...</td>\n",
       "      <td>British Library HMNTS 12625.dd.1.</td>\n",
       "    </tr>\n",
       "    <tr>\n",
       "      <th>3</th>\n",
       "      <td>472</td>\n",
       "      <td>NaN</td>\n",
       "      <td>London</td>\n",
       "      <td>1851</td>\n",
       "      <td>James Darling</td>\n",
       "      <td>Welsh Sketches, chiefly ecclesiastical, to the...</td>\n",
       "      <td>A., E. S.</td>\n",
       "      <td>Appleyard, Ernest Silvanus.</td>\n",
       "      <td>NaN</td>\n",
       "      <td>NaN</td>\n",
       "      <td>NaN</td>\n",
       "      <td>NaN</td>\n",
       "      <td>monographic</td>\n",
       "      <td>http://www.flickr.com/photos/britishlibrary/ta...</td>\n",
       "      <td>British Library HMNTS 10369.bbb.15.</td>\n",
       "    </tr>\n",
       "    <tr>\n",
       "      <th>4</th>\n",
       "      <td>480</td>\n",
       "      <td>A new edition, revised, etc.</td>\n",
       "      <td>London</td>\n",
       "      <td>1857</td>\n",
       "      <td>Wertheim &amp; Macintosh</td>\n",
       "      <td>[The World in which I live, and my place in it...</td>\n",
       "      <td>A., E. S.</td>\n",
       "      <td>BROOME, John Henry.</td>\n",
       "      <td>NaN</td>\n",
       "      <td>NaN</td>\n",
       "      <td>NaN</td>\n",
       "      <td>NaN</td>\n",
       "      <td>monographic</td>\n",
       "      <td>http://www.flickr.com/photos/britishlibrary/ta...</td>\n",
       "      <td>British Library HMNTS 9007.d.28.</td>\n",
       "    </tr>\n",
       "  </tbody>\n",
       "</table>\n",
       "</div>"
      ],
      "text/plain": [
       "   Identifier             Edition Statement      Place of Publication  \\\n",
       "0         206                           NaN                    London   \n",
       "1         216                           NaN  London; Virtue & Yorston   \n",
       "2         218                           NaN                    London   \n",
       "3         472                           NaN                    London   \n",
       "4         480  A new edition, revised, etc.                    London   \n",
       "\n",
       "  Date of Publication              Publisher  \\\n",
       "0         1879 [1878]       S. Tinsley & Co.   \n",
       "1                1868           Virtue & Co.   \n",
       "2                1869  Bradbury, Evans & Co.   \n",
       "3                1851          James Darling   \n",
       "4                1857   Wertheim & Macintosh   \n",
       "\n",
       "                                               Title     Author  \\\n",
       "0                  Walter Forbes. [A novel.] By A. A      A. A.   \n",
       "1  All for Greed. [A novel. The dedication signed...  A., A. A.   \n",
       "2  Love the Avenger. By the author of “All for Gr...  A., A. A.   \n",
       "3  Welsh Sketches, chiefly ecclesiastical, to the...  A., E. S.   \n",
       "4  [The World in which I live, and my place in it...  A., E. S.   \n",
       "\n",
       "                                   Contributors  Corporate Author  \\\n",
       "0                               FORBES, Walter.               NaN   \n",
       "1  BLAZE DE BURY, Marie Pauline Rose - Baroness               NaN   \n",
       "2  BLAZE DE BURY, Marie Pauline Rose - Baroness               NaN   \n",
       "3                   Appleyard, Ernest Silvanus.               NaN   \n",
       "4                           BROOME, John Henry.               NaN   \n",
       "\n",
       "   Corporate Contributors Former owner  Engraver Issuance type  \\\n",
       "0                     NaN          NaN       NaN   monographic   \n",
       "1                     NaN          NaN       NaN   monographic   \n",
       "2                     NaN          NaN       NaN   monographic   \n",
       "3                     NaN          NaN       NaN   monographic   \n",
       "4                     NaN          NaN       NaN   monographic   \n",
       "\n",
       "                                          Flickr URL  \\\n",
       "0  http://www.flickr.com/photos/britishlibrary/ta...   \n",
       "1  http://www.flickr.com/photos/britishlibrary/ta...   \n",
       "2  http://www.flickr.com/photos/britishlibrary/ta...   \n",
       "3  http://www.flickr.com/photos/britishlibrary/ta...   \n",
       "4  http://www.flickr.com/photos/britishlibrary/ta...   \n",
       "\n",
       "                            Shelfmarks  \n",
       "0    British Library HMNTS 12641.b.30.  \n",
       "1    British Library HMNTS 12626.cc.2.  \n",
       "2    British Library HMNTS 12625.dd.1.  \n",
       "3  British Library HMNTS 10369.bbb.15.  \n",
       "4     British Library HMNTS 9007.d.28.  "
      ]
     },
     "execution_count": 4,
     "metadata": {},
     "output_type": "execute_result"
    }
   ],
   "source": [
    "df.head(5)"
   ]
  },
  {
   "cell_type": "code",
   "execution_count": 6,
   "metadata": {},
   "outputs": [
    {
     "name": "stdout",
     "output_type": "stream",
     "text": [
      "<class 'pandas.core.frame.DataFrame'>\n",
      "RangeIndex: 8287 entries, 0 to 8286\n",
      "Data columns (total 15 columns):\n",
      " #   Column                  Non-Null Count  Dtype  \n",
      "---  ------                  --------------  -----  \n",
      " 0   Identifier              8287 non-null   int64  \n",
      " 1   Edition Statement       773 non-null    object \n",
      " 2   Place of Publication    8287 non-null   object \n",
      " 3   Date of Publication     8106 non-null   object \n",
      " 4   Publisher               4092 non-null   object \n",
      " 5   Title                   8287 non-null   object \n",
      " 6   Author                  6509 non-null   object \n",
      " 7   Contributors            8287 non-null   object \n",
      " 8   Corporate Author        0 non-null      float64\n",
      " 9   Corporate Contributors  0 non-null      float64\n",
      " 10  Former owner            1 non-null      object \n",
      " 11  Engraver                0 non-null      float64\n",
      " 12  Issuance type           8287 non-null   object \n",
      " 13  Flickr URL              8287 non-null   object \n",
      " 14  Shelfmarks              8287 non-null   object \n",
      "dtypes: float64(3), int64(1), object(11)\n",
      "memory usage: 971.3+ KB\n"
     ]
    }
   ],
   "source": [
    "df.info()"
   ]
  },
  {
   "cell_type": "code",
   "execution_count": 7,
   "metadata": {},
   "outputs": [],
   "source": [
    "to_drop = [\"Edition Statement\",\n",
    "           \"Corporate Author\",\n",
    "           \"Corporate Contributors\",\n",
    "           \"Former owner\",\n",
    "           \"Contributors\",\n",
    "           \"Issuance type\",\n",
    "           \"Shelfmarks\"]"
   ]
  },
  {
   "cell_type": "code",
   "execution_count": 8,
   "metadata": {},
   "outputs": [],
   "source": [
    "df.drop(to_drop, inplace=True, axis=1)"
   ]
  },
  {
   "cell_type": "code",
   "execution_count": 9,
   "metadata": {},
   "outputs": [
    {
     "data": {
      "text/html": [
       "<div>\n",
       "<style scoped>\n",
       "    .dataframe tbody tr th:only-of-type {\n",
       "        vertical-align: middle;\n",
       "    }\n",
       "\n",
       "    .dataframe tbody tr th {\n",
       "        vertical-align: top;\n",
       "    }\n",
       "\n",
       "    .dataframe thead th {\n",
       "        text-align: right;\n",
       "    }\n",
       "</style>\n",
       "<table border=\"1\" class=\"dataframe\">\n",
       "  <thead>\n",
       "    <tr style=\"text-align: right;\">\n",
       "      <th></th>\n",
       "      <th>Identifier</th>\n",
       "      <th>Place of Publication</th>\n",
       "      <th>Date of Publication</th>\n",
       "      <th>Publisher</th>\n",
       "      <th>Title</th>\n",
       "      <th>Author</th>\n",
       "      <th>Engraver</th>\n",
       "      <th>Flickr URL</th>\n",
       "    </tr>\n",
       "  </thead>\n",
       "  <tbody>\n",
       "    <tr>\n",
       "      <th>0</th>\n",
       "      <td>206</td>\n",
       "      <td>London</td>\n",
       "      <td>1879 [1878]</td>\n",
       "      <td>S. Tinsley &amp; Co.</td>\n",
       "      <td>Walter Forbes. [A novel.] By A. A</td>\n",
       "      <td>A. A.</td>\n",
       "      <td>NaN</td>\n",
       "      <td>http://www.flickr.com/photos/britishlibrary/ta...</td>\n",
       "    </tr>\n",
       "    <tr>\n",
       "      <th>1</th>\n",
       "      <td>216</td>\n",
       "      <td>London; Virtue &amp; Yorston</td>\n",
       "      <td>1868</td>\n",
       "      <td>Virtue &amp; Co.</td>\n",
       "      <td>All for Greed. [A novel. The dedication signed...</td>\n",
       "      <td>A., A. A.</td>\n",
       "      <td>NaN</td>\n",
       "      <td>http://www.flickr.com/photos/britishlibrary/ta...</td>\n",
       "    </tr>\n",
       "    <tr>\n",
       "      <th>2</th>\n",
       "      <td>218</td>\n",
       "      <td>London</td>\n",
       "      <td>1869</td>\n",
       "      <td>Bradbury, Evans &amp; Co.</td>\n",
       "      <td>Love the Avenger. By the author of “All for Gr...</td>\n",
       "      <td>A., A. A.</td>\n",
       "      <td>NaN</td>\n",
       "      <td>http://www.flickr.com/photos/britishlibrary/ta...</td>\n",
       "    </tr>\n",
       "    <tr>\n",
       "      <th>3</th>\n",
       "      <td>472</td>\n",
       "      <td>London</td>\n",
       "      <td>1851</td>\n",
       "      <td>James Darling</td>\n",
       "      <td>Welsh Sketches, chiefly ecclesiastical, to the...</td>\n",
       "      <td>A., E. S.</td>\n",
       "      <td>NaN</td>\n",
       "      <td>http://www.flickr.com/photos/britishlibrary/ta...</td>\n",
       "    </tr>\n",
       "    <tr>\n",
       "      <th>4</th>\n",
       "      <td>480</td>\n",
       "      <td>London</td>\n",
       "      <td>1857</td>\n",
       "      <td>Wertheim &amp; Macintosh</td>\n",
       "      <td>[The World in which I live, and my place in it...</td>\n",
       "      <td>A., E. S.</td>\n",
       "      <td>NaN</td>\n",
       "      <td>http://www.flickr.com/photos/britishlibrary/ta...</td>\n",
       "    </tr>\n",
       "  </tbody>\n",
       "</table>\n",
       "</div>"
      ],
      "text/plain": [
       "   Identifier      Place of Publication Date of Publication  \\\n",
       "0         206                    London         1879 [1878]   \n",
       "1         216  London; Virtue & Yorston                1868   \n",
       "2         218                    London                1869   \n",
       "3         472                    London                1851   \n",
       "4         480                    London                1857   \n",
       "\n",
       "               Publisher                                              Title  \\\n",
       "0       S. Tinsley & Co.                  Walter Forbes. [A novel.] By A. A   \n",
       "1           Virtue & Co.  All for Greed. [A novel. The dedication signed...   \n",
       "2  Bradbury, Evans & Co.  Love the Avenger. By the author of “All for Gr...   \n",
       "3          James Darling  Welsh Sketches, chiefly ecclesiastical, to the...   \n",
       "4   Wertheim & Macintosh  [The World in which I live, and my place in it...   \n",
       "\n",
       "      Author  Engraver                                         Flickr URL  \n",
       "0      A. A.       NaN  http://www.flickr.com/photos/britishlibrary/ta...  \n",
       "1  A., A. A.       NaN  http://www.flickr.com/photos/britishlibrary/ta...  \n",
       "2  A., A. A.       NaN  http://www.flickr.com/photos/britishlibrary/ta...  \n",
       "3  A., E. S.       NaN  http://www.flickr.com/photos/britishlibrary/ta...  \n",
       "4  A., E. S.       NaN  http://www.flickr.com/photos/britishlibrary/ta...  "
      ]
     },
     "execution_count": 9,
     "metadata": {},
     "output_type": "execute_result"
    }
   ],
   "source": [
    "df.head(5)"
   ]
  },
  {
   "cell_type": "code",
   "execution_count": 10,
   "metadata": {},
   "outputs": [
    {
     "name": "stdout",
     "output_type": "stream",
     "text": [
      "<class 'pandas.core.frame.DataFrame'>\n",
      "RangeIndex: 8287 entries, 0 to 8286\n",
      "Data columns (total 8 columns):\n",
      " #   Column                Non-Null Count  Dtype  \n",
      "---  ------                --------------  -----  \n",
      " 0   Identifier            8287 non-null   int64  \n",
      " 1   Place of Publication  8287 non-null   object \n",
      " 2   Date of Publication   8106 non-null   object \n",
      " 3   Publisher             4092 non-null   object \n",
      " 4   Title                 8287 non-null   object \n",
      " 5   Author                6509 non-null   object \n",
      " 6   Engraver              0 non-null      float64\n",
      " 7   Flickr URL            8287 non-null   object \n",
      "dtypes: float64(1), int64(1), object(6)\n",
      "memory usage: 518.1+ KB\n"
     ]
    }
   ],
   "source": [
    "df.info()"
   ]
  },
  {
   "cell_type": "code",
   "execution_count": 12,
   "metadata": {},
   "outputs": [],
   "source": [
    "#df.drop(columns=to_drop, inplace=True)"
   ]
  },
  {
   "cell_type": "code",
   "execution_count": 13,
   "metadata": {},
   "outputs": [
    {
     "data": {
      "text/plain": [
       "True"
      ]
     },
     "execution_count": 13,
     "metadata": {},
     "output_type": "execute_result"
    }
   ],
   "source": [
    "df[\"Identifier\"].is_unique"
   ]
  },
  {
   "cell_type": "code",
   "execution_count": 15,
   "metadata": {},
   "outputs": [],
   "source": [
    "df = df.set_index(\"Identifier\")"
   ]
  },
  {
   "cell_type": "code",
   "execution_count": 16,
   "metadata": {},
   "outputs": [
    {
     "data": {
      "text/html": [
       "<div>\n",
       "<style scoped>\n",
       "    .dataframe tbody tr th:only-of-type {\n",
       "        vertical-align: middle;\n",
       "    }\n",
       "\n",
       "    .dataframe tbody tr th {\n",
       "        vertical-align: top;\n",
       "    }\n",
       "\n",
       "    .dataframe thead th {\n",
       "        text-align: right;\n",
       "    }\n",
       "</style>\n",
       "<table border=\"1\" class=\"dataframe\">\n",
       "  <thead>\n",
       "    <tr style=\"text-align: right;\">\n",
       "      <th></th>\n",
       "      <th>Place of Publication</th>\n",
       "      <th>Date of Publication</th>\n",
       "      <th>Publisher</th>\n",
       "      <th>Title</th>\n",
       "      <th>Author</th>\n",
       "      <th>Engraver</th>\n",
       "      <th>Flickr URL</th>\n",
       "    </tr>\n",
       "    <tr>\n",
       "      <th>Identifier</th>\n",
       "      <th></th>\n",
       "      <th></th>\n",
       "      <th></th>\n",
       "      <th></th>\n",
       "      <th></th>\n",
       "      <th></th>\n",
       "      <th></th>\n",
       "    </tr>\n",
       "  </thead>\n",
       "  <tbody>\n",
       "    <tr>\n",
       "      <th>206</th>\n",
       "      <td>London</td>\n",
       "      <td>1879 [1878]</td>\n",
       "      <td>S. Tinsley &amp; Co.</td>\n",
       "      <td>Walter Forbes. [A novel.] By A. A</td>\n",
       "      <td>A. A.</td>\n",
       "      <td>NaN</td>\n",
       "      <td>http://www.flickr.com/photos/britishlibrary/ta...</td>\n",
       "    </tr>\n",
       "    <tr>\n",
       "      <th>216</th>\n",
       "      <td>London; Virtue &amp; Yorston</td>\n",
       "      <td>1868</td>\n",
       "      <td>Virtue &amp; Co.</td>\n",
       "      <td>All for Greed. [A novel. The dedication signed...</td>\n",
       "      <td>A., A. A.</td>\n",
       "      <td>NaN</td>\n",
       "      <td>http://www.flickr.com/photos/britishlibrary/ta...</td>\n",
       "    </tr>\n",
       "    <tr>\n",
       "      <th>218</th>\n",
       "      <td>London</td>\n",
       "      <td>1869</td>\n",
       "      <td>Bradbury, Evans &amp; Co.</td>\n",
       "      <td>Love the Avenger. By the author of “All for Gr...</td>\n",
       "      <td>A., A. A.</td>\n",
       "      <td>NaN</td>\n",
       "      <td>http://www.flickr.com/photos/britishlibrary/ta...</td>\n",
       "    </tr>\n",
       "    <tr>\n",
       "      <th>472</th>\n",
       "      <td>London</td>\n",
       "      <td>1851</td>\n",
       "      <td>James Darling</td>\n",
       "      <td>Welsh Sketches, chiefly ecclesiastical, to the...</td>\n",
       "      <td>A., E. S.</td>\n",
       "      <td>NaN</td>\n",
       "      <td>http://www.flickr.com/photos/britishlibrary/ta...</td>\n",
       "    </tr>\n",
       "    <tr>\n",
       "      <th>480</th>\n",
       "      <td>London</td>\n",
       "      <td>1857</td>\n",
       "      <td>Wertheim &amp; Macintosh</td>\n",
       "      <td>[The World in which I live, and my place in it...</td>\n",
       "      <td>A., E. S.</td>\n",
       "      <td>NaN</td>\n",
       "      <td>http://www.flickr.com/photos/britishlibrary/ta...</td>\n",
       "    </tr>\n",
       "  </tbody>\n",
       "</table>\n",
       "</div>"
      ],
      "text/plain": [
       "                Place of Publication Date of Publication  \\\n",
       "Identifier                                                 \n",
       "206                           London         1879 [1878]   \n",
       "216         London; Virtue & Yorston                1868   \n",
       "218                           London                1869   \n",
       "472                           London                1851   \n",
       "480                           London                1857   \n",
       "\n",
       "                        Publisher  \\\n",
       "Identifier                          \n",
       "206              S. Tinsley & Co.   \n",
       "216                  Virtue & Co.   \n",
       "218         Bradbury, Evans & Co.   \n",
       "472                 James Darling   \n",
       "480          Wertheim & Macintosh   \n",
       "\n",
       "                                                        Title     Author  \\\n",
       "Identifier                                                                 \n",
       "206                         Walter Forbes. [A novel.] By A. A      A. A.   \n",
       "216         All for Greed. [A novel. The dedication signed...  A., A. A.   \n",
       "218         Love the Avenger. By the author of “All for Gr...  A., A. A.   \n",
       "472         Welsh Sketches, chiefly ecclesiastical, to the...  A., E. S.   \n",
       "480         [The World in which I live, and my place in it...  A., E. S.   \n",
       "\n",
       "            Engraver                                         Flickr URL  \n",
       "Identifier                                                               \n",
       "206              NaN  http://www.flickr.com/photos/britishlibrary/ta...  \n",
       "216              NaN  http://www.flickr.com/photos/britishlibrary/ta...  \n",
       "218              NaN  http://www.flickr.com/photos/britishlibrary/ta...  \n",
       "472              NaN  http://www.flickr.com/photos/britishlibrary/ta...  \n",
       "480              NaN  http://www.flickr.com/photos/britishlibrary/ta...  "
      ]
     },
     "execution_count": 16,
     "metadata": {},
     "output_type": "execute_result"
    }
   ],
   "source": [
    "df.head(5)"
   ]
  },
  {
   "cell_type": "code",
   "execution_count": 17,
   "metadata": {},
   "outputs": [
    {
     "data": {
      "text/plain": [
       "Place of Publication                                               London\n",
       "Date of Publication                                           1879 [1878]\n",
       "Publisher                                                S. Tinsley & Co.\n",
       "Title                                   Walter Forbes. [A novel.] By A. A\n",
       "Author                                                              A. A.\n",
       "Engraver                                                              NaN\n",
       "Flickr URL              http://www.flickr.com/photos/britishlibrary/ta...\n",
       "Name: 206, dtype: object"
      ]
     },
     "execution_count": 17,
     "metadata": {},
     "output_type": "execute_result"
    }
   ],
   "source": [
    "df.loc[206]"
   ]
  },
  {
   "cell_type": "code",
   "execution_count": 18,
   "metadata": {},
   "outputs": [
    {
     "data": {
      "text/plain": [
       "Place of Publication                                               London\n",
       "Date of Publication                                           1879 [1878]\n",
       "Publisher                                                S. Tinsley & Co.\n",
       "Title                                   Walter Forbes. [A novel.] By A. A\n",
       "Author                                                              A. A.\n",
       "Engraver                                                              NaN\n",
       "Flickr URL              http://www.flickr.com/photos/britishlibrary/ta...\n",
       "Name: 206, dtype: object"
      ]
     },
     "execution_count": 18,
     "metadata": {},
     "output_type": "execute_result"
    }
   ],
   "source": [
    "df.iloc[0]"
   ]
  },
  {
   "cell_type": "code",
   "execution_count": 19,
   "metadata": {},
   "outputs": [
    {
     "name": "stdout",
     "output_type": "stream",
     "text": [
      "<class 'pandas.core.frame.DataFrame'>\n",
      "Int64Index: 8287 entries, 206 to 4160339\n",
      "Data columns (total 7 columns):\n",
      " #   Column                Non-Null Count  Dtype  \n",
      "---  ------                --------------  -----  \n",
      " 0   Place of Publication  8287 non-null   object \n",
      " 1   Date of Publication   8106 non-null   object \n",
      " 2   Publisher             4092 non-null   object \n",
      " 3   Title                 8287 non-null   object \n",
      " 4   Author                6509 non-null   object \n",
      " 5   Engraver              0 non-null      float64\n",
      " 6   Flickr URL            8287 non-null   object \n",
      "dtypes: float64(1), object(6)\n",
      "memory usage: 837.9+ KB\n"
     ]
    }
   ],
   "source": [
    "df.info()"
   ]
  },
  {
   "cell_type": "code",
   "execution_count": 20,
   "metadata": {},
   "outputs": [
    {
     "data": {
      "text/plain": [
       "object     6\n",
       "float64    1\n",
       "dtype: int64"
      ]
     },
     "execution_count": 20,
     "metadata": {},
     "output_type": "execute_result"
    }
   ],
   "source": [
    "df.dtypes.value_counts()"
   ]
  },
  {
   "cell_type": "code",
   "execution_count": 21,
   "metadata": {},
   "outputs": [
    {
     "data": {
      "text/plain": [
       "Identifier\n",
       "1905           1888\n",
       "1929    1839, 38-54\n",
       "2836           1897\n",
       "2854           1865\n",
       "2956        1860-63\n",
       "2957           1873\n",
       "3017           1866\n",
       "3131           1899\n",
       "4598           1814\n",
       "4884           1820\n",
       "Name: Date of Publication, dtype: object"
      ]
     },
     "execution_count": 21,
     "metadata": {},
     "output_type": "execute_result"
    }
   ],
   "source": [
    "df.loc[1905: ,\"Date of Publication\"].head(10)"
   ]
  },
  {
   "cell_type": "code",
   "execution_count": 22,
   "metadata": {},
   "outputs": [],
   "source": [
    "regex = r'^(\\d{4})'"
   ]
  },
  {
   "cell_type": "code",
   "execution_count": 23,
   "metadata": {},
   "outputs": [],
   "source": [
    "extr = df[\"Date of Publication\"].str.extract(regex, expand=False)"
   ]
  },
  {
   "cell_type": "code",
   "execution_count": 24,
   "metadata": {},
   "outputs": [
    {
     "data": {
      "text/plain": [
       "Identifier\n",
       "206    1879\n",
       "216    1868\n",
       "218    1869\n",
       "472    1851\n",
       "480    1857\n",
       "Name: Date of Publication, dtype: object"
      ]
     },
     "execution_count": 24,
     "metadata": {},
     "output_type": "execute_result"
    }
   ],
   "source": [
    "extr.head(5)"
   ]
  },
  {
   "cell_type": "code",
   "execution_count": 25,
   "metadata": {},
   "outputs": [],
   "source": [
    "df[\"Date of Publication\"] = pd.to_numeric(extr)"
   ]
  },
  {
   "cell_type": "code",
   "execution_count": 26,
   "metadata": {},
   "outputs": [
    {
     "data": {
      "text/plain": [
       "dtype('float64')"
      ]
     },
     "execution_count": 26,
     "metadata": {},
     "output_type": "execute_result"
    }
   ],
   "source": [
    "df[\"Date of Publication\"].dtype"
   ]
  },
  {
   "cell_type": "code",
   "execution_count": 27,
   "metadata": {},
   "outputs": [
    {
     "data": {
      "text/plain": [
       "Identifier\n",
       "206                                  London\n",
       "216                London; Virtue & Yorston\n",
       "218                                  London\n",
       "472                                  London\n",
       "480                                  London\n",
       "481                                  London\n",
       "519                                  London\n",
       "667     pp. 40. G. Bryan & Co: Oxford, 1898\n",
       "874                                 London]\n",
       "1143                                 London\n",
       "Name: Place of Publication, dtype: object"
      ]
     },
     "execution_count": 27,
     "metadata": {},
     "output_type": "execute_result"
    }
   ],
   "source": [
    "df[\"Place of Publication\"].head(10)"
   ]
  },
  {
   "cell_type": "code",
   "execution_count": 28,
   "metadata": {},
   "outputs": [
    {
     "data": {
      "text/plain": [
       "Place of Publication                                  Newcastle-upon-Tyne\n",
       "Date of Publication                                                  1867\n",
       "Publisher                                                      T. Fordyce\n",
       "Title                   Local Records; or, Historical Register of rema...\n",
       "Author                      FORDYCE, T. - Printer, of Newcastle-upon-Tyne\n",
       "Engraver                                                              NaN\n",
       "Flickr URL              http://www.flickr.com/photos/britishlibrary/ta...\n",
       "Name: 4157862, dtype: object"
      ]
     },
     "execution_count": 28,
     "metadata": {},
     "output_type": "execute_result"
    }
   ],
   "source": [
    "df.loc[4157862]"
   ]
  },
  {
   "cell_type": "code",
   "execution_count": 29,
   "metadata": {},
   "outputs": [
    {
     "data": {
      "text/plain": [
       "Place of Publication                                  Newcastle upon Tyne\n",
       "Date of Publication                                                  1834\n",
       "Publisher                                                Mackenzie & Dent\n",
       "Title                   An historical, topographical and descriptive v...\n",
       "Author                                              Mackenzie, E. (Eneas)\n",
       "Engraver                                                              NaN\n",
       "Flickr URL              http://www.flickr.com/photos/britishlibrary/ta...\n",
       "Name: 4159587, dtype: object"
      ]
     },
     "execution_count": 29,
     "metadata": {},
     "output_type": "execute_result"
    }
   ],
   "source": [
    "df.loc[4159587]"
   ]
  },
  {
   "cell_type": "code",
   "execution_count": 30,
   "metadata": {},
   "outputs": [],
   "source": [
    "pub = df[\"Place of Publication\"]"
   ]
  },
  {
   "cell_type": "code",
   "execution_count": 31,
   "metadata": {},
   "outputs": [],
   "source": [
    "london = pub.str.contains(\"London\")"
   ]
  },
  {
   "cell_type": "code",
   "execution_count": 32,
   "metadata": {},
   "outputs": [
    {
     "data": {
      "text/plain": [
       "Identifier\n",
       "206    True\n",
       "216    True\n",
       "218    True\n",
       "472    True\n",
       "480    True\n",
       "Name: Place of Publication, dtype: bool"
      ]
     },
     "execution_count": 32,
     "metadata": {},
     "output_type": "execute_result"
    }
   ],
   "source": [
    "london.head(5)"
   ]
  },
  {
   "cell_type": "code",
   "execution_count": 33,
   "metadata": {},
   "outputs": [],
   "source": [
    "oxford = pub.str.contains('Oxford')"
   ]
  },
  {
   "cell_type": "code",
   "execution_count": 34,
   "metadata": {},
   "outputs": [
    {
     "data": {
      "text/plain": [
       "Identifier\n",
       "206    False\n",
       "216    False\n",
       "218    False\n",
       "472    False\n",
       "480    False\n",
       "Name: Place of Publication, dtype: bool"
      ]
     },
     "execution_count": 34,
     "metadata": {},
     "output_type": "execute_result"
    }
   ],
   "source": [
    "oxford.head(5)"
   ]
  },
  {
   "cell_type": "code",
   "execution_count": 39,
   "metadata": {},
   "outputs": [],
   "source": [
    "df[\"Place of Publication\"] = np.where(london, \"London\",\n",
    "                                     np.where(oxford, \"Oxford\",\n",
    "                                              pub.str.replace(\"-\",\" \")))"
   ]
  },
  {
   "cell_type": "code",
   "execution_count": 40,
   "metadata": {},
   "outputs": [
    {
     "data": {
      "text/plain": [
       "Identifier\n",
       "206    London\n",
       "216    London\n",
       "218    London\n",
       "472    London\n",
       "480    London\n",
       "Name: Place of Publication, dtype: object"
      ]
     },
     "execution_count": 40,
     "metadata": {},
     "output_type": "execute_result"
    }
   ],
   "source": [
    "df[\"Place of Publication\"].head()"
   ]
  },
  {
   "cell_type": "code",
   "execution_count": 43,
   "metadata": {},
   "outputs": [
    {
     "data": {
      "text/plain": [
       "\"LondonOxfordCoventryChristianiaFirenzeAmsterdamSavonaParisPuerto RicoNew YorkHullOxoniiMilanoAberdeenWienAbingdonQuebecLeipzigpp. 40. W. Cann: Plymouth, [1876?]1845enkBostonUpsaliæEdinburghYverdonLondiniSt. PetersburgBerlinSceauxCoblenzCarlstad, StockholmCarlstadA. MillarAllahabad]StuttgartD. Appleton & CoСанктпетербургъPaisleyNapoliἘν ΚερκυρᾳPlymouthTrentoHeilbronnTorinow KrakowieCambridge, [Mass.]BombayAgenEdinburgh; John MurrayPhiladelphiaHaarlemAlbanyKjøbenhavnHaderslevCopenhagueKielBaltimoreS. PauloLondini GothorumMamersMéxicoMexicoPortoBruxellesMacerataToursPalermoSantiagoEdinburgh]ChelmsfordBarcelonaGlasgowInvernessJedburghWestminsterAndoverLewesDeventerProvidenceFrankfurtRomaPesciaExeterMaltonGreat YarmouthChurMoulinsMadridToulouseBeroliniLipsiaeNiortStockholmLeccoCarlislepp. 64. W. Cann: Plymouth, [1870?]DieppePestDorchesterJenaeKristianiaSalisburyMeriden, ConnParis; MoulinsTrévouxMünchenRouenAdelaidePerthMontevideoBathBudapestQuébecAberdeen?KolozsvárttBirminghamLeeBristolKirkwallPenzanceDublinIpswichKarlsruheBernAarauHartford, ConnSpringfield, MassWilnoVannesBasingstokeCalcuttaNairnLiverpoolManchesterJenaPhila., PaGroningenBayonneTriestexxuBarton upon HumberBordeauxEdinburgh; reprinted by B. DewhirstSaint DizierCooperstown, N.YNewark, N.JLeidenWindsor, VtSingaporeBreslauCincinnatiStrassburgDoncasterSpringfield, OChesterCambridgeSchweinfurtNürnbergWinnipegAschaffenburgLübeckBelfastDover, N.HFrederick Warne & CoAuchLe MansHanoverYorkv PrazeHagae ComitumKrakówBrugesМосква, 1857 60UpsaliaeAshteadColmarDelhiArrasMitauRichmond, VaNorwichChester]GothaVigevanoRhodesKopenhagenLyonWashingtonHongkongBirkenheadKaiserslauternBrightonOswestryÉvreuxBucarestChicago2 vol. W. Blackwood & Sons: Edinburgh, 1888ZürichGöttingenBodminInnsbruckLeedsС. ПетербургъSouthamptonChâteaudunGenèveNamurDalbeattieE. LloydBrooklynLondraFontainebleauBournemouthTroyesGrotonMaidstoneNewcastle upon TyneBerne & NeuchâtelDunedinChichesterEveshamWinchesterLwówPooleBoston, LincsWürzburgLa PazTivertonH. D. SymondsBristol; Longmans & CoLisboaMorrisaniaGoesLes AndelisAlgerGroningaeElginHorncastleBremenLovedaleSuidniciiОдессаOrvietoDundeeMannheimWarszawaMagdeburgHamburgDessaupp. 31. S. Harper & Sons: Barnstaple, 1899RevalArnhemHalleStamfordF. & C. RivingtonMadrasKilmarnockBraunschweigPrivately printedSkiptonZacatecasBuenos AiresFrankfort, KyKönigsbergDresden's Gravenhage1 3. ParisSchwerin2 Bdchn. BerlinStuttgart & TübingenGenfbenv. TarnopolPisaἐν ΠατραιςShanklinNoviLahoreMooltanTauntonCheltenhamChambersburg, PaMarlboroughKöthenAllahabadCitta di CastelloBrusselsManilaCodognoWickTorontoWisbech; Simpkin, Marshall & CoSneekMilwaukeeGentModenaMontrealPont AudemerWeimarCape TownRangoonCarmarthenPesaroFlorencestkSevillaPortland [Maine]ScarboroughTorre del GrecoPorto & BragaCataniaТифлисъKøbenhavnMadrid; Bayonne [printed]Cookshire, QueDerbyPortseaLes AndelysCambridge [Mass.]Printed for private circulationСаратовъNewcastleMantovaSaint OmerSan FranciscoSpalatoSilva Junior & C.aLa Rochellew WarszawieHartfordBrunsvigaeLugduni BatavorumEdinburgh?CarácasDijonGlastonburyAlbany, N.YMelbournev. MéjicoMéjicoLanarkManchester; Lupton BrosNantesTōkyōColchesterMelegnanoJ. BellRochdaleUlverstonMaysvilleOtleyVeneziaLondres, et se trouve à ParisWoodbridgeAucklandQuedlinburgGorinchen's HertogenboschBradfordBudæBogotáNeuva York [sic]RomeTruroBesançonpp. 128. R. Aickin & Co.: Belfast, 1896SydneyBasilCanterburypp. 64. W. & J. Kennedy: Hawick, 1899HawickSunderlandCupar FifeἘν ἈθηναιςPlaistowGrahamstownCarnoustieCharlestonKelsoМоскваPottsvilleStrigoniiChippenhamHelsingforsἐν ἈθηναιςNashvilleDartfordGrenobleKoldingSpringfieldSt. LouisDoylestown, PaNew HavenPestenCambridge, MassLilleParisiisParyżBoston; Carey & LeaRiponLibourneHertfordNorthamptonBonnRomæBradbury & Evansgw2 Bd. NaumburgGiessenMarburgMarburgiValenciennesPrestonRichmondW. H. Allen & CoMacmillan & CoHeidelbergJena, Naumburg a. S. [printed]pp. 152. Москва, 1898Chiswick PressNeustadt an der HaardtMontfoortUtrecht2 Thle. Frankfurt am Main, 1880, 8ºMiddlesexBury St. EdmundsDenver, ColoradoGreenockMaltaBourgAshbournSalem, MassСанктпетербургъ, 1867pp. vi. 250. W. Blackwood: Edinburgh, 1889Paris, Corbeil [printedKölnYarmouthJ. & R. TonsonJames Nichol, etcW. P. NimmoSaint BrieucAnnapolisParis, Corbeil [printed]FlorentiaeRennesCahorsFrankfurt a. MHammHavreKirby MoorsideUpsalaChartresToulMantesAmiensLeeuwardenTodiBilbaoSt. PétersbourgWiesbadenNordhausenKeighleyA. GreenJamaicaBoston, MassAlnwickBoston [Mass.]DunfermlineMeiningenEislebenFranz DunckerHarper & BrosSelkirkRugbyIndianapolisStrasbourgEpsomPragaeSaintesRiomEton]Windsor] Barth, printer, Wych Street, StrandHalsteadFabrianoSantiago de ChileQuebec]SheffieldJerseypp. 20. [Appledore Press: New Haven, Conn.,] 1875ClevelandMejicoKarlstadpp. 229. G. N. Morang & Company: Toronto, 1900J. Johnson, etcHenry G. BohnBickers & Son, etcWilliam NimmoGeorge Routledge & SonsBoston [Mass.]; Cambridge [Mass., printed]MontpellierHenleyПетроградъLeopoliSchweidnitzNew York [printed], ChicagoСанктпетербургъ, 1845TauriniSaint Petersburg]Boston, U.S.ALondresÉcijaMiddelburgCapetownCleveland, OhioForliHalle a. SKnaresbroughBernaySudburyPorteFranklinThomas Nelson & SonsZielenzig2 Th. HelmstedtHannoverStepney GreenMinden i. WestfWirzburgMonzaFerraraReprinted at the Auchinleck pressNew Orleans, LaPaderbornJenningsMülheim a. d. RuhrNewburyportNew York; Kegan Paul & CoCorkLiègeBruggeFrancis & John RivingtonPesth & WienPragBrandenburg a. HMadrid [printed], ParisNueva YorkMontréalBliss Sands & CoService & PatonMacmillan & Co.; New YorkSmith, Elder & CoSimlaLeideGapBernard LintotTurinἈθηνησινChicago, IllGreizOstendeGenoaCopenhagenС[анкт] П[етер] Б[ургъ]KasselMontargisFavershamСанктпетербургъ, 1836Санктпетербургъ, 1842GloucesterLond[on]DüsseldorfVeronaSedanNîmesF. C. & J. Rivington, etcJohn MurrayRichard Griffin & CoCassell, Petter & GalpinWard & LockCassell, Petter, & GalpinCassell Petter & GalpinCassell & CoCadell & Davies, etcSuttaby, Evance, & CoCharles Griffin & CoErmanno LoescherJ. B. Lippincott CoBliss, Sands, & FosterValenciaБеоградSampson Low, Marston, Searle & RivingtonPetersburgBoston [U.S.]KiøbenhavnRichmond, Va., reprintedParis, Rouen [printed]Vernor, Hood, & Sharpe, etcG. KearsleyJ. RidleyAldine HouseJames BowdenTipografia MigliaresiHarrison & SonsWakefieldCaenMarseilleKönigsberg ï. PrZalt Bommel, Nijmegen [printed]Санктпетербург\\uf004, 1862CarpiAntwerpenBolognaLavalBâleКовнаYarmouth?]PeterboroughLimerickWedmoreHaddingtonBerlin und Potsdam [printed]Boulogne sur MerHalberstadtTenbySt. Petersburg, LeipzigDetroitBrechinWirksworthWeymouthFort Smith, ArkDalbeattie; Castle Douglas [printed]Akron, OhioBoston [U.S.], Cambridge [U.S. printed]HaverfordwestArbroathBaselOudewaterBamberg] Appledore U.S. PressMonsAlkmaarG. NicolBreslau, Leipzig [printed]ReadingErlangenCiudad RealFranekerLeipzig [printed] und HeidelbergJena, Leipzig [printed]Stuttgart, Carlsruhe [printed]Hamilton, BermudaBielefeldCuxhavenBoston (Massachusetts)GrazConcordpp. 76. The Darien Press: Edinburgh, 1895Dayton, OhioNagybecskerekKjøbenhaven3 vols. EdinburghGandἘν ΒενετιᾳPesthT. Nelson & SonsLouisvilleDurhamFrankfurt am MainZnaimWrexhamHuddersfieldBerlin, Sondershausen [printed]A[ppledore]. P[rivate]. P[ress: New Haven, Conn.,] 1881DarmstadtShrewsbury & Providence GrovePest, Darmstadtban [printed]Pesth, Darmstadt [printed]ZurichDevizesCharlestownStirlingWellington, New ZealandBrusselJohn Hatchard & SonNancyGranadaEdinburgh?]ImolaM. CooperClermont FerrandDebreczenpp. 438. J. Duffy & Co.: Dublin, 1900Berlin & HamburgParis, Poissy [printed]BudánSt. HelenaFreiburg im BreisgauHonoluluwe LwowieDavosBrooklyn, N.Yw LwowiePortmadocAuburnSt. Helier]Eisenach4 vol. The Century Co.: New York, 1887, 8ºSavannah, GaG. J. Parris, steam printerBrecknock1895LimogesSantiago [Chilo.]BridgwaterHelsingissäКіевъFreiburg i. BStettinAu Meschacébé [Mons]ТверьСофияDorpatBerneKetteringBoston, U.SMelbourne & BallaratBoston [U.S.]; Cambridge [U.S. printed]GuildfordWien [printed]ErfurtSaint Petersburgw LipskuHoornv Č. BroděLinzCatskill, N.YMontreal?CologneHarrison & CoLancasterRichard Bentley & SonGinn & CoArdrossanBarmen, Elberfeld [printed]Rouen [printed], ParisChâteaurouxKjöbenhavnFrankfurt, a. Mpp. xv. 376. W. E. Clegg: Oldham, 1893James Parker & CoWarwickAvesnes, Valenciennes [printed]DouaiPontoiseSoissons, Laon [printedSavannahAshburtonNewcastle on TyneParis, Strasbourg [printed]ÉtampesVervinspp. li. 397. въ Типографіи Департамента Народнаго Просвѣщенія: Санктпетербургъ, 1819LeicesterLincolnHarrowBourgesat the Cross of DumbartonBaltimore [U.S.]AnconaEvreuxSaint MaixentTulleGöteborgPrzemyślCaerfyrddinMulhouseGuanajuatoEgham1 3. EdinburghEsteLoughboroughEpinalLouthGeo. E. Over, printer, the Rugby PressTrimHildesheimKecskemétenPosenKingsbridgeArauLausanneBoston [MassRemington & Co1814VolterraCampobassoSainte Anne de La PocatiereAugustaGraham's TownGuernseyVillefrancheSaint AmandLondSaint LoMontdidierBeverleyDignepp. 112. Санктпетербург\\uf004, 1879pp. viii. 291. Harper & Bros.: New York, 1888R. PauPrivasParker Son and BourneNicosiaSacramentoSaint GaudensFécampGraz, Wien [printed]ChambéryPragæCoroniæLa HayeHartford [Conn.]Norwich [Conn.]ReykjavíkWheelingTunbridge WellsRegensburgChathamMálagaFreisingOldenburgEtonæBrunswickLaonTournaiBoston, [Mass.]ValparaisoPortland, MaineExeter (New Hampshire)Boston, [MassAnversMetzParis [printed]BellunoSoissonsVeniseLansingGuatemalapp. 62. J. Heywood: Manchester, 1894BromptonæOrléansMont de MarsanCittà di CastelloBrighton,] 1873Tewkesbury3 series. LeamingtonRoma, Napoli, Turin [printed]Warwick, 1877BridlingtonFrankfort on the MainLuxemburgGlasgow & EdinburghBuenos AyresOlneyLockerbieWinterthurYokohamaTeramoЯрославльEmmendingenpp. 8. Privately printed: Plymouth, 1879Rostock & SchwerinLeipzig & WienSt. John'sNeversMalzévilleUpsalHalifax, N.Spp. xxvii. 507. Printed by J. S. Toothill: Bradford, 1900pp. 471. Санктпетербургъ, 1875У БѣоградуKingston, JamaicaMalagapp. viii. 236. Санктпетербургъ, 1856ThoruniiV PrazePozsony] EdinburghPadovaСанктпетербургъ, 18632 том. Санктпетербургъ, 1867Chapman & HallMechelenWrexham?]ReggioRocca S. CascianoPécsettPassaic, N.Y.]AntverpiæBerlin und HamburgWycombe] BirminghamHome Publishing CoAberdareDoverArezzoСанктпетербургъ, 1852CardiffLeipaBriggHalifaxPeeblesBuenos AirêsCaracasCaernarfonPenrithAugsburgЧернівцїDordrechtStokesleyMunichLouvainNimesCompiègneLipsiæMonachiGroningæBarneveldLerwickpp. 35. W. Cann: Plymouth, [1869?]BalparaisoBath, Sold by T. Cadell, etcСанктпетербургъ, 1864PontefractWarringtonСанктпетербургъ, 1868Hartford [Conn]Portsmouth [N.H.]CartajenaRoxbury, MassLipskpp. viii. 154. Wilson & McCormick: Glasgow, 1882Cambridge, [1841.]UlmLemgoManchester; Edinburgh printedCracovieFrauenfeldAugusta, GeorgiaС.П.БBrentfordNewarkAbbevillePrivately printed: [Edinburgh,] 1844CroydonAgramParamariboПетербургъLimaEpworthAsunción del ParaguayHarrisburg, PaAboaeQuitoBuffalo, N.YAlaisBeauvaisElberfeldAix la ChapelleMorse CoTaylor & HesseyPerigueuxMontreal, Canadapp. viii. 206. W. Morrison & Co.: Hawick, 1898pp. 472. J. Heywood: Manchester, 1889frNewport PagnelS. O. BeetonDinanDurbanPotsdam, Nauen [printed]Paris, Orléans [printed]Devonportpp. xxviii. 180. A. Gardner: Paisley, 1897AngersJohn & Daniel A. DarlingRoermondLadies’ BridgePoznańTarbesEdinburgh, 1867 [1866]Bath [U.S.]Tahlequah?ZutphenCoblenz, Leipzig [printed]Poincot, Paris,] 1788 93OrpingtonNewburghBaleHanleySerampore]Frankfurt am Main, Prag [printed]pp. 7. [Privately printed: Bodmin, 1887.]WesterhamParis [printed], PéronneLe Mans [printed], ParisJamaciaChâteau ThierryTraniNéracCagliariNew York, 1866AvignonSciaccaKendalpp. 80. Andrew Churchman: Hammersmith, 1890GüterslohLahrTübingenVienneSydney, N.S.WAugustæ TaurinorumFrankfurt a/MWeipert]MulhousèMainzGlogauZürich und Frauenfeldpp. xxxi. 123. Berlin, 1877RedditchA. StrahanEdinburgh; Longman, Hurst, Rees, Orme, & BrownСанктпетербургъ, 1871Königsberg i. PrCurGenovaShaftesburyCarlsruheNouvelle YorkBoston and New York1830?]MeluniiShrewsbury2 pt. Санктпетербургъ, 1853, 54SidmouthT. O. H. P. BurnhamElliot StockLiedenLeipzig und Wienprinted at the Baptist Mission PressDockumVe VidniSalt Lake Citysold by J. Newbery; M. CooperBernard LintottPortlandMiddlesbroughB. Law, etcWilliam P. NimmoArkste’s & MerkusAixCasselRio de Janeiropp. xii. 208. J. Young & Sons: Perth, 1898ΣμυρνηColomboUngvárottHusumCampecheWilloughby & Co., etcNakładem i czcionkami Breitkopfa i HaertlaMinneapolisVratislaviæDursleyAuburn, N.YHubbardston, MassCrieffNewport & RydeOsnabrückAshsteadProvidence, R.IWorcester, [Mass.]EastbourneSt. Louis, MoSondershausenKaschauPestiniWindsor,]pp. xi. 202. Москва, 1891Hobart TownSensPlymouth]TeignmouthBoston & New YorkUtrecht, [1859?]Cambridge [printed]; Bell & DaldyEdinburgh, Manchesterpp. xii. 139. F. Rodda: Penzance, 1895pp. xx. 372. William P. Nimmo: Edinburgh, 1868Strivelin [Stirling]pp. vi. 209. Blackwood and Sons: Edinburgh, 1888Aostepp. 60. Privately printed, 1876RiminiSevenoaksBuryAlexandriaPorrentruyIlkestonBar sur SeineBerne, Strasbourg [printed]ἈθηνῃσιSwanagepp. 14. W. Cann: Plymouth, [1876?]Madison, WisAaronHabanapp. xi. 273. Вятка, 1870Montreuil sur Mer1885?]KøbenhavenRochefortRodezMaranhãoWoolwichCortlandWinsted, Connpp. 59. Atlas Press: Melbourne, [1900?]Egmore, MadrasFrancfort sur le MeinNördlingenKreuznach, Leipzig [printed]Санктпетербургъ, 1873ruEmdenMinneapolis [Minn.]Los Angeles, CalWarwick and Leamington, Coventry [printedStratford upon AvonWilliam Blackwood & SonsWhitbyLandshutTroy, N.YWest Milton, Ohiopp. ii. 80. A. W. Dawson: Newport, 1898Delft, Rotterdam [printedCharlestown [Mass.]AltonaW LipskuВаршаваWeinCambraiLeeds: Bean & Son; Leamington: Hamblen, 1883BurnleyRomfordWindham, N.HHanauCambridge MassHofDoesborghВильнаLichfieldWorcester, MassE. Moxon, Son & CoWilliam PatersonAlexander StrahanKegan Paul, Trench, & CoD. C. Heath & CoJames R. Osgood, McIlvaine & CoJarrold & SonsBell & DaldyV. KalyanaramCopenhagneWorthingLundBingleyHamburg?SherborneNottinghamVienapp. 215. въ Москвѣ, 1889Paris, Lyon [printed]Merida de YucatanМосква, 1860Moskwa\""
      ]
     },
     "execution_count": 43,
     "metadata": {},
     "output_type": "execute_result"
    }
   ],
   "source": [
    "df[\"Place of Publication\"].unique().sum()"
   ]
  },
  {
   "cell_type": "code",
   "execution_count": null,
   "metadata": {},
   "outputs": [],
   "source": []
  }
 ],
 "metadata": {
  "kernelspec": {
   "display_name": "Python 3 (ipykernel)",
   "language": "python",
   "name": "python3"
  },
  "language_info": {
   "codemirror_mode": {
    "name": "ipython",
    "version": 3
   },
   "file_extension": ".py",
   "mimetype": "text/x-python",
   "name": "python",
   "nbconvert_exporter": "python",
   "pygments_lexer": "ipython3",
   "version": "3.11.4"
  }
 },
 "nbformat": 4,
 "nbformat_minor": 4
}

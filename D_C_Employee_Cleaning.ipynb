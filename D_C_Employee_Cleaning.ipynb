{
 "cells": [
  {
   "cell_type": "code",
   "execution_count": 45,
   "id": "66156ee0",
   "metadata": {},
   "outputs": [],
   "source": [
    "import pandas as pd\n",
    "import numpy as np"
   ]
  },
  {
   "cell_type": "code",
   "execution_count": 46,
   "id": "aa49f319",
   "metadata": {},
   "outputs": [],
   "source": [
    "df=pd.read_csv(\"employees.csv\")"
   ]
  },
  {
   "cell_type": "markdown",
   "id": "007597b1",
   "metadata": {},
   "source": [
    "## EDA"
   ]
  },
  {
   "cell_type": "code",
   "execution_count": 47,
   "id": "f8848b0f",
   "metadata": {},
   "outputs": [
    {
     "data": {
      "text/html": [
       "<div>\n",
       "<style scoped>\n",
       "    .dataframe tbody tr th:only-of-type {\n",
       "        vertical-align: middle;\n",
       "    }\n",
       "\n",
       "    .dataframe tbody tr th {\n",
       "        vertical-align: top;\n",
       "    }\n",
       "\n",
       "    .dataframe thead th {\n",
       "        text-align: right;\n",
       "    }\n",
       "</style>\n",
       "<table border=\"1\" class=\"dataframe\">\n",
       "  <thead>\n",
       "    <tr style=\"text-align: right;\">\n",
       "      <th></th>\n",
       "      <th>First Name</th>\n",
       "      <th>Gender</th>\n",
       "      <th>Salary</th>\n",
       "      <th>Bonus %</th>\n",
       "      <th>Senior Management</th>\n",
       "      <th>Team</th>\n",
       "    </tr>\n",
       "  </thead>\n",
       "  <tbody>\n",
       "    <tr>\n",
       "      <th>0</th>\n",
       "      <td>Douglas</td>\n",
       "      <td>Male</td>\n",
       "      <td>97308</td>\n",
       "      <td>6.945</td>\n",
       "      <td>TRUE</td>\n",
       "      <td>Marketing</td>\n",
       "    </tr>\n",
       "    <tr>\n",
       "      <th>1</th>\n",
       "      <td>Thomas</td>\n",
       "      <td>Male</td>\n",
       "      <td>61933</td>\n",
       "      <td>NaN</td>\n",
       "      <td>TRUE</td>\n",
       "      <td>NaN</td>\n",
       "    </tr>\n",
       "    <tr>\n",
       "      <th>2</th>\n",
       "      <td>Maria</td>\n",
       "      <td>Female</td>\n",
       "      <td>130590</td>\n",
       "      <td>11.858</td>\n",
       "      <td>FALSE</td>\n",
       "      <td>Finance</td>\n",
       "    </tr>\n",
       "    <tr>\n",
       "      <th>3</th>\n",
       "      <td>Jerry</td>\n",
       "      <td>Male</td>\n",
       "      <td>NaN</td>\n",
       "      <td>9.34</td>\n",
       "      <td>TRUE</td>\n",
       "      <td>Finance</td>\n",
       "    </tr>\n",
       "    <tr>\n",
       "      <th>4</th>\n",
       "      <td>Larry</td>\n",
       "      <td>Male</td>\n",
       "      <td>101004</td>\n",
       "      <td>1.389</td>\n",
       "      <td>TRUE</td>\n",
       "      <td>Client Services</td>\n",
       "    </tr>\n",
       "  </tbody>\n",
       "</table>\n",
       "</div>"
      ],
      "text/plain": [
       "  First Name  Gender  Salary Bonus % Senior Management             Team\n",
       "0    Douglas    Male   97308   6.945              TRUE        Marketing\n",
       "1     Thomas    Male   61933     NaN              TRUE              NaN\n",
       "2      Maria  Female  130590  11.858             FALSE          Finance\n",
       "3      Jerry    Male     NaN    9.34              TRUE          Finance\n",
       "4      Larry    Male  101004   1.389              TRUE  Client Services"
      ]
     },
     "execution_count": 47,
     "metadata": {},
     "output_type": "execute_result"
    }
   ],
   "source": [
    "df.head()"
   ]
  },
  {
   "cell_type": "code",
   "execution_count": 48,
   "id": "575b2c8a",
   "metadata": {},
   "outputs": [
    {
     "data": {
      "text/plain": [
       "(1000, 6)"
      ]
     },
     "execution_count": 48,
     "metadata": {},
     "output_type": "execute_result"
    }
   ],
   "source": [
    "df.shape"
   ]
  },
  {
   "cell_type": "code",
   "execution_count": 49,
   "id": "7b80e973",
   "metadata": {},
   "outputs": [
    {
     "name": "stdout",
     "output_type": "stream",
     "text": [
      "<class 'pandas.core.frame.DataFrame'>\n",
      "RangeIndex: 1000 entries, 0 to 999\n",
      "Data columns (total 6 columns):\n",
      " #   Column             Non-Null Count  Dtype \n",
      "---  ------             --------------  ----- \n",
      " 0   First Name         931 non-null    object\n",
      " 1   Gender             852 non-null    object\n",
      " 2   Salary             998 non-null    object\n",
      " 3   Bonus %            997 non-null    object\n",
      " 4   Senior Management  932 non-null    object\n",
      " 5   Team               957 non-null    object\n",
      "dtypes: object(6)\n",
      "memory usage: 47.0+ KB\n"
     ]
    }
   ],
   "source": [
    "#My datatype is malformed because i have some str in the number colums\n",
    "#Also there are multiple missing values in all column\n",
    "# For exam gender column \n",
    "df.info()"
   ]
  },
  {
   "cell_type": "code",
   "execution_count": 54,
   "id": "e2a26926",
   "metadata": {},
   "outputs": [
    {
     "data": {
      "text/plain": [
       "First Name           object\n",
       "Gender               object\n",
       "Salary               object\n",
       "Bonus %              object\n",
       "Senior Management    object\n",
       "Team                 object\n",
       "dtype: object"
      ]
     },
     "execution_count": 54,
     "metadata": {},
     "output_type": "execute_result"
    }
   ],
   "source": [
    "df.dtypes"
   ]
  },
  {
   "cell_type": "code",
   "execution_count": 10,
   "id": "5034fa48",
   "metadata": {},
   "outputs": [
    {
     "data": {
      "text/plain": [
       "0      Male\n",
       "1      Male\n",
       "2    Female\n",
       "3      Male\n",
       "4      Male\n",
       "5      n.a.\n",
       "6    Female\n",
       "7    Female\n",
       "8       NaN\n",
       "9    Female\n",
       "Name: Gender, dtype: object"
      ]
     },
     "execution_count": 10,
     "metadata": {},
     "output_type": "execute_result"
    }
   ],
   "source": [
    "df[\"Gender\"].head(10)"
   ]
  },
  {
   "cell_type": "markdown",
   "id": "b88aa8f3",
   "metadata": {},
   "source": [
    "## Getting all the unique values in each column"
   ]
  },
  {
   "cell_type": "code",
   "execution_count": 11,
   "id": "e793017f",
   "metadata": {},
   "outputs": [
    {
     "data": {
      "text/plain": [
       "array(['Male', 'Female', 'n.a.', nan], dtype=object)"
      ]
     },
     "execution_count": 11,
     "metadata": {},
     "output_type": "execute_result"
    }
   ],
   "source": [
    "#this helps me to get all the unique values in my gender column\n",
    "df[\"Gender\"].unique()"
   ]
  },
  {
   "cell_type": "code",
   "execution_count": 12,
   "id": "d8018d3e",
   "metadata": {},
   "outputs": [
    {
     "data": {
      "text/plain": [
       "array(['TRUE', 'FALSE', nan, 'n.a.', '?'], dtype=object)"
      ]
     },
     "execution_count": 12,
     "metadata": {},
     "output_type": "execute_result"
    }
   ],
   "source": [
    "\n",
    "df[\"Senior Management\"].unique()"
   ]
  },
  {
   "cell_type": "code",
   "execution_count": 17,
   "id": "044b3016",
   "metadata": {},
   "outputs": [
    {
     "data": {
      "text/plain": [
       "array([ 97308.,  61933., 130590.,     nan, 101004., 115163.,  65476.,\n",
       "        45906., 139852.,  63241., 102508., 112807., 109831.,  41426.,\n",
       "        59414.,  90370., 111737., 132940.,  81014.,  64714., 100612.,\n",
       "        90816., 125792.,  97950.,  37076.,  37598., 122367., 124008.,\n",
       "        79529., 118780.,  88657., 122340., 119082.,  95734.,  85182.,\n",
       "       142032.,  57427.,  36844., 122173.,  99283.,  66582., 121918.,\n",
       "        73524., 145146.,  88010., 114796.,  66820.,  93581., 113590.,\n",
       "        94976.,  41126.,  49339.,  40341.,  83677., 102488., 130276.,\n",
       "        64715.,  72670.,  66851.,  48866., 106862.,  58112.,  35203.,\n",
       "        77834.,  61310., 125250.,  51178.,  84834., 100863.,  84692.,\n",
       "       118172.,  54043.,  90582.,  62096., 104897., 131604., 107391.,\n",
       "       114797., 115814., 137126.,  47369.,  35095., 148115.,  83072.,\n",
       "       100238., 103495., 144887.,  64088.,  51082.,  91719., 128771.,\n",
       "       119009., 111858., 130620.,  43026., 142321., 140371., 100705.,\n",
       "        77544.,  48109.,  61602., 103902., 136984.,  80740.,  91712.,\n",
       "        42146.,  68680., 133980.,  37919., 147113.,  42153.,  64363.,\n",
       "       114767.,  58698.,  54585.,  76189., 109095., 120204.,  41054.,\n",
       "        84885., 119735., 110169.,  73789.,  76078.,  49368.,  57325.,\n",
       "        66521., 127654.,  60866.,  41334.,  94231., 146670., 106317.,\n",
       "       109260., 134148.,  43542.,  95327., 112238., 132373., 113850.,\n",
       "       110194., 146129., 140013., 122717.,  71715.,  95322.,  89227.,\n",
       "       124488.,  86230., 135490., 121333., 129297.,  84546.,  85730.,\n",
       "       104058., 105062.,  79536., 114412.,  68501., 149563., 103386.,\n",
       "        89786.,  52226., 134645.,  59148.,  42341., 142178.,  38989.,\n",
       "        53754., 133772., 143499.,  97058.,  85446.,  40297., 146651.,\n",
       "       124486., 102652., 144474.,  68759.,  57286.,  58129., 123940.,\n",
       "        98233., 140810.,  42090., 149654.,  51430.,  71749.,  85700.,\n",
       "        57783.,  36946.,  99326., 109259., 131038., 121068.,  62719.,\n",
       "        69268.,  36067., 130581.,  89661.,  36643., 140558., 103521.,\n",
       "        55281., 115711., 114079.,  57531., 141069.,  89434.,  44639.,\n",
       "       110967., 115387.,  81673., 109588.,  92544., 142373.,  83341.,\n",
       "        98865., 120444.,  71945., 109564.,  78417., 106947.,  87298.,\n",
       "        64579.,  50905.,  59728.,  51685.,  49542.,  38375.,  64084.,\n",
       "       147663.,  73935.,  40837.,  94393.,  42087.,  52080.,  35061.,\n",
       "        64164.,  94088., 127813.,  38041., 126310., 142561.,  70817.,\n",
       "        59937., 106115.,  82782., 104896., 133943.,  83658.,  71896.,\n",
       "       113732., 110485., 115118.,  48696.,  42676.,  43586.,  89258.,\n",
       "        90730., 100308.,  69134.,  58295.,  50141., 101941., 115145.,\n",
       "        40451.,  56526., 145316., 103235.,  58563.,  74129.,  74669.,\n",
       "        97490., 104250.,  94345.,  82439.,  51613., 105946.,  46080.,\n",
       "       134610., 125104., 107281., 141521.,  65931.,  69989., 147183.,\n",
       "        66757.,  75145., 129460., 132839.,  44537., 118733.,  46905.,\n",
       "        79582.,  55394., 123811., 137314.,  36711., 111786.,  72257.,\n",
       "        71276.,  38712.,  46930., 125220., 121477.,  86386.,  81308.,\n",
       "        84810.,  66775.,  72145., 121604., 109510., 112117., 108127.,\n",
       "       123711., 132381., 148225.,  62960.,  56926.,  41428., 115658.,\n",
       "        76707.,  60388.,  45150.,  58755.,  76076.,  87760., 135119.,\n",
       "        36759., 121723., 110061.,  85074.,  85799.,  75150.,  91344.,\n",
       "        86326.,  98753., 113060.,  77327.,  62666.,  96633.,  58248.,\n",
       "        83706.,  74086.,  95389., 129968.,  41549.,  74287.,  69906.,\n",
       "        65078., 106406., 115913.,  38092., 121160.,  90429.,  64207.,\n",
       "        80688.,  55044.,  72893.,  96978.,  97364., 140885.,  58520.,\n",
       "        66067.,  87721., 144001.,  91133.,  67827.,  81839.,  81444.,\n",
       "       137661., 112548., 111249., 114334., 118906.,  72979.,  64172.,\n",
       "       107024.,  50167., 106995.,  70492., 125881., 123294., 131045.,\n",
       "        97635.,  94493., 140502., 106310.,  46240., 111163.,  93753.,\n",
       "        63494., 116693.,  85215.,  86439.,  62913.,  38872., 124655.,\n",
       "       113506., 109980.,  91522.,  42214.,  83159., 144082.,  47885.,\n",
       "       126232., 134598.,  66604., 115194.,  49101.,  67811., 111043.,\n",
       "        37748.,  36403., 140136., 121508.,  79906., 123144.,  46953.,\n",
       "        79443.,  51395., 134408.,  68028., 149903.,  79123., 104014.,\n",
       "        65362.,  50701., 144709.,  53061.,  36697.,  69244., 101036.,\n",
       "        52119.,  46666.,  73437.,  86318.,  76409.,  71642.,  67150.,\n",
       "       142208.,  81183., 107163.,  55038., 140002., 146812.,  40119.,\n",
       "       136602.,  69579., 101457., 121232., 102626., 137171.,  88276.,\n",
       "        43354., 125556.,  59862.,  74640.,  52875.,  58789., 122897.,\n",
       "       136032., 141958., 139917., 147635.,  68230., 124365., 104749.,\n",
       "       122121., 143541., 137840.,  73354.,  47647., 106249.,  93847.,\n",
       "       104815., 115436.,  50645., 142415.,  37984.,  71751., 135882.,\n",
       "        46007., 117055.,  58478., 121357.,  44857.,  47322.,  81077.,\n",
       "        76394., 114356.,  41831.,  90187.,  72613.,  42748.,  37259.,\n",
       "       125033.,  38275.,  71520., 106472., 103684.,  96111.,  90719.,\n",
       "       140303.,  62161.,  78883.,  63549.,  63888.,  97370.,  66224.,\n",
       "        97915.,  86883.,  37812.,  56580.,  83895.,  58047., 124889.,\n",
       "       118840.,  67780., 144677.,  45724.,  86676.,  82401.,  35575.,\n",
       "       123649.,  38078.,  52620., 133366.,  91462., 146589.,  51633.,\n",
       "        45181.,  62454.,  84746., 147362.,  80803., 117293., 105689.,\n",
       "        93302., 102555.,  51525.,  41190.,  75484.,  82726., 122319.,\n",
       "       127297., 109290.,  99150.,  71930.,  66819.,  42424.,  51431.,\n",
       "       120675.,  96610.,  71430.,  87713.,  86723.,  43414.,  87145.,\n",
       "        91124.,  48141.,  90829., 101262.,  41427.,  56993., 114244.,\n",
       "        81800., 118736.,  66077.,  35013.,  98393., 107111.,  65673.,\n",
       "        65482.,  81919.,  59277.,  49501.,  70367., 132156.,  56961.,\n",
       "        98841.,  78226., 116931.,  87575., 110924.,  78351., 125574.,\n",
       "        95198., 121006.,  95728.,  69740.,  91996.,  98385.,  90556.,\n",
       "        50366.,  84232., 100888., 141335.,  97691.,  47266., 139754.,\n",
       "       116236., 103405.,  41453.,  52730.,  60361.,  63103.,  65168.,\n",
       "        73105.,  37916.,  45682.,  69297.,  59070.,  81215., 128036.,\n",
       "        89780., 125018., 133033.,  82408., 131755., 128305., 147309.,\n",
       "        74911.,  47079.,  82873., 134673., 123591.,  75598.,  89831.,\n",
       "        92430., 126956., 112467.,  46665.,  42553., 102081., 135118.,\n",
       "        71975., 149908.,  45418.,  79145., 122920., 128031.,  59969.,\n",
       "        35381., 113129., 141932.,  42296.,  63395., 125382., 113592.,\n",
       "        46750.,  90285.,  53692., 100341., 123876.,  41643., 113760.,\n",
       "        49473., 146141.,  79459., 104496.,  67789.,  86564., 135758.,\n",
       "        84672., 111580.,  50455.,  88733., 130577., 138925.,  62371.,\n",
       "        87715.,  66029.,  86818.,  75147., 105573.,  41230., 117787.,\n",
       "        88086., 139959.,  93901.,  50529., 134988., 120941., 118753.,\n",
       "        92799.,  85718., 109517.,  85550., 136655.,  43312., 102839.,\n",
       "        78891.,  93201.,  84693.,  73587.,  65251., 129148., 128175.,\n",
       "        75825.,  51821.,  60411.,  58327.,  46478., 123963.,  79796.,\n",
       "        83809.,  77933.,  51070.,  97480.,  58357.,  67165., 145988.,\n",
       "       147417.,  95003., 144187.,  37888., 131513.,  77287.,  46875.,\n",
       "        82744.,  43252.,  66047., 118431.,  59943., 136681., 138807.,\n",
       "        82884.,  48668., 122971., 107050., 138598., 149456., 128540.,\n",
       "        61117., 100949.,  46829.,  69111.,  46602.,  61181.,  94963.,\n",
       "        85789., 145274., 102841.,  49665.,  41928., 128042.,  86150.,\n",
       "       121816., 123409.,  98295.,  59678.,  57871., 132084.,  35633.,\n",
       "       125298., 115582., 148339., 112975.,  36927.,  70248., 141305.,\n",
       "        72002., 102577., 113554.,  47176., 106428.,  75181.,  79047.,\n",
       "        52970., 137979., 114360., 110306.,  46378.,  74104., 132505.,\n",
       "        96649.,  57811., 111468., 141498., 124441.,  40121., 129712.,\n",
       "       126010., 122762., 149105.,  44021.,  42025.,  59970., 145001.,\n",
       "       102589.,  47529., 148941.,  91109.,  51923.,  53954.,  39335.,\n",
       "       111371., 115057., 145357.,  36749.,  89854., 134048., 141311.,\n",
       "       123621.,  54941., 106562.,  39371.,  83112.,  96941.,  47232.,\n",
       "        54058.,  80399., 118043., 109411.,  97566.,  69267.,  87103.,\n",
       "        98811., 149684.,  71383.,  81206.,  69112., 120672.,  96511.,\n",
       "        49325., 132175., 118037., 139570., 115280.,  51065., 103854.,\n",
       "        48354., 132327., 106362., 148857., 131131., 129663.,  41449.,\n",
       "        93368.,  53335., 148291., 147842., 105066., 139284.,  63046.,\n",
       "        89700., 108946.,  98406., 108581.,  41808.,  36837., 140850.,\n",
       "        50426., 134120.,  57292.,  80633., 131943.,  48046.,  97443.,\n",
       "       135352., 107816.,  96329.,  73749.,  75607.,  98858.,  76485.,\n",
       "        41238., 114896., 125418.,  75415.,  90998., 142868., 135990.,\n",
       "        57300.,  73706.,  85871.,  96795.,  92242., 115149., 126924.,\n",
       "       145329.,  92587.,  60263.,  91406.,  37005., 139791.,  45267.,\n",
       "        95296.,  59680., 144701.,  35477., 119266., 103877.,  47605.,\n",
       "       136604., 121250.,  35884., 137144., 102697.,  61999.,  45223.,\n",
       "        54033., 126120.,  99747.,  71958., 115566., 118369.,  51667.,\n",
       "        85858., 131423.,  49538.,  50369.,  86615., 135369.,  60003.,\n",
       "        95866., 109324., 103557., 111376.,  75661.,  85213., 140444.,\n",
       "        90427., 141439.,  43694., 131952.,  96250.,  63126.,  44836.,\n",
       "        70635., 137386., 104840.,  75498.,  67471., 101914.,  93712.,\n",
       "       133472., 107351., 142410.,  37385.,  58423., 143638., 113425.,\n",
       "        57266., 119667., 127118.,  80838.,  70990.,  39833.,  45094.,\n",
       "        93997., 103050., 121797.,  89443.,  35802.,  68164.,  93022.,\n",
       "       105681.,  43050.,  44486.,  63571.,  75423.,  76381., 137359.,\n",
       "        67656.,  92436., 137954., 124566.,  66146., 142935.,  46233.,\n",
       "       148985.,  91411., 146907.,  43455.,  85668.,  82871., 136709.,\n",
       "        47638.,  38344., 100765., 134505., 112769.,  56450.,  98874.,\n",
       "       132483.,  42392.,  96914.,  60500., 129949.])"
      ]
     },
     "execution_count": 17,
     "metadata": {},
     "output_type": "execute_result"
    }
   ],
   "source": [
    "df[\"Salary\"].unique()"
   ]
  },
  {
   "cell_type": "markdown",
   "id": "fbb9ae63",
   "metadata": {},
   "source": [
    "## make a list of unique values and do this;"
   ]
  },
  {
   "cell_type": "code",
   "execution_count": 13,
   "id": "6cd81296",
   "metadata": {},
   "outputs": [],
   "source": [
    "# We are creating a list of all the unque values and assigning them to miss_val_format\n",
    "miss_val_format=[\"NA\", \"?\", \"n.a.\", \"n/a\", \"na\",\"--\"]"
   ]
  },
  {
   "cell_type": "code",
   "execution_count": 14,
   "id": "c0d728e0",
   "metadata": {},
   "outputs": [],
   "source": [
    "#Here we are rereading the data and telling pandas to replace all \"miss_val_format\" entries will null_value NAN\n",
    "df=pd.read_csv(\"employees.csv\", na_values = miss_val_format)"
   ]
  },
  {
   "cell_type": "code",
   "execution_count": 15,
   "id": "43399db4",
   "metadata": {},
   "outputs": [
    {
     "name": "stdout",
     "output_type": "stream",
     "text": [
      "<class 'pandas.core.frame.DataFrame'>\n",
      "RangeIndex: 1000 entries, 0 to 999\n",
      "Data columns (total 6 columns):\n",
      " #   Column             Non-Null Count  Dtype  \n",
      "---  ------             --------------  -----  \n",
      " 0   First Name         930 non-null    object \n",
      " 1   Gender             851 non-null    object \n",
      " 2   Salary             995 non-null    float64\n",
      " 3   Bonus %            996 non-null    float64\n",
      " 4   Senior Management  929 non-null    object \n",
      " 5   Team               952 non-null    object \n",
      "dtypes: float64(2), object(4)\n",
      "memory usage: 47.0+ KB\n"
     ]
    }
   ],
   "source": [
    "df.info()"
   ]
  },
  {
   "cell_type": "code",
   "execution_count": 19,
   "id": "ebc45ac9",
   "metadata": {},
   "outputs": [
    {
     "data": {
      "text/plain": [
       "First Name            70\n",
       "Gender               149\n",
       "Salary                 5\n",
       "Bonus %                4\n",
       "Senior Management     71\n",
       "Team                  48\n",
       "dtype: int64"
      ]
     },
     "execution_count": 19,
     "metadata": {},
     "output_type": "execute_result"
    }
   ],
   "source": [
    "#Getting all the missing value from df\n",
    "df.isnull().sum()"
   ]
  },
  {
   "cell_type": "markdown",
   "id": "4e3e0134",
   "metadata": {},
   "source": [
    "## Dropping rows with missing value "
   ]
  },
  {
   "cell_type": "code",
   "execution_count": 20,
   "id": "701ff2f5",
   "metadata": {},
   "outputs": [],
   "source": [
    "#axis 0= row, axis 1 = column\n",
    "new_df= df.dropna(axis=0)"
   ]
  },
  {
   "cell_type": "code",
   "execution_count": 22,
   "id": "830cc1d0",
   "metadata": {},
   "outputs": [
    {
     "data": {
      "text/plain": [
       "First Name           0\n",
       "Gender               0\n",
       "Salary               0\n",
       "Bonus %              0\n",
       "Senior Management    0\n",
       "Team                 0\n",
       "dtype: int64"
      ]
     },
     "execution_count": 22,
     "metadata": {},
     "output_type": "execute_result"
    }
   ],
   "source": [
    "new_df.isnull().sum()"
   ]
  },
  {
   "cell_type": "code",
   "execution_count": 24,
   "id": "79341184",
   "metadata": {},
   "outputs": [
    {
     "data": {
      "text/plain": [
       "(742, 6)"
      ]
     },
     "execution_count": 24,
     "metadata": {},
     "output_type": "execute_result"
    }
   ],
   "source": [
    "#Not good alot of data are gone\n",
    "new_df.shape"
   ]
  },
  {
   "cell_type": "code",
   "execution_count": 25,
   "id": "f74e5444",
   "metadata": {},
   "outputs": [],
   "source": [
    "new_df= df.dropna(axis=1)"
   ]
  },
  {
   "cell_type": "code",
   "execution_count": 26,
   "id": "2501269e",
   "metadata": {},
   "outputs": [
    {
     "data": {
      "text/plain": [
       "(1000, 0)"
      ]
     },
     "execution_count": 26,
     "metadata": {},
     "output_type": "execute_result"
    }
   ],
   "source": [
    "new_df.shape"
   ]
  },
  {
   "cell_type": "code",
   "execution_count": 28,
   "id": "3c26c413",
   "metadata": {
    "scrolled": true
   },
   "outputs": [
    {
     "data": {
      "text/plain": [
       "0       97308.0\n",
       "1       61933.0\n",
       "2      130590.0\n",
       "3           0.0\n",
       "4      101004.0\n",
       "         ...   \n",
       "995    132483.0\n",
       "996     42392.0\n",
       "997     96914.0\n",
       "998     60500.0\n",
       "999    129949.0\n",
       "Name: Salary, Length: 1000, dtype: float64"
      ]
     },
     "execution_count": 28,
     "metadata": {},
     "output_type": "execute_result"
    }
   ],
   "source": [
    "df[\"Salary\"].fillna(0)"
   ]
  },
  {
   "cell_type": "code",
   "execution_count": 30,
   "id": "5b103cc0",
   "metadata": {},
   "outputs": [
    {
     "data": {
      "text/plain": [
       "First Name            70\n",
       "Gender               149\n",
       "Salary                 5\n",
       "Bonus %                4\n",
       "Senior Management     71\n",
       "Team                  48\n",
       "dtype: int64"
      ]
     },
     "execution_count": 30,
     "metadata": {},
     "output_type": "execute_result"
    }
   ],
   "source": [
    "# Display all missing rows\n",
    "df.isnull().sum()"
   ]
  },
  {
   "cell_type": "code",
   "execution_count": 43,
   "id": "d84b1b5f",
   "metadata": {},
   "outputs": [
    {
     "data": {
      "text/html": [
       "<div>\n",
       "<style scoped>\n",
       "    .dataframe tbody tr th:only-of-type {\n",
       "        vertical-align: middle;\n",
       "    }\n",
       "\n",
       "    .dataframe tbody tr th {\n",
       "        vertical-align: top;\n",
       "    }\n",
       "\n",
       "    .dataframe thead th {\n",
       "        text-align: right;\n",
       "    }\n",
       "</style>\n",
       "<table border=\"1\" class=\"dataframe\">\n",
       "  <thead>\n",
       "    <tr style=\"text-align: right;\">\n",
       "      <th></th>\n",
       "      <th>Salary</th>\n",
       "      <th>Bonus %</th>\n",
       "    </tr>\n",
       "  </thead>\n",
       "  <tbody>\n",
       "    <tr>\n",
       "      <th>count</th>\n",
       "      <td>995.000000</td>\n",
       "      <td>996.000000</td>\n",
       "    </tr>\n",
       "    <tr>\n",
       "      <th>mean</th>\n",
       "      <td>90522.329648</td>\n",
       "      <td>10.215586</td>\n",
       "    </tr>\n",
       "    <tr>\n",
       "      <th>std</th>\n",
       "      <td>32880.654889</td>\n",
       "      <td>5.532077</td>\n",
       "    </tr>\n",
       "    <tr>\n",
       "      <th>min</th>\n",
       "      <td>35013.000000</td>\n",
       "      <td>1.015000</td>\n",
       "    </tr>\n",
       "    <tr>\n",
       "      <th>25%</th>\n",
       "      <td>62412.500000</td>\n",
       "      <td>5.429500</td>\n",
       "    </tr>\n",
       "    <tr>\n",
       "      <th>50%</th>\n",
       "      <td>90370.000000</td>\n",
       "      <td>9.850000</td>\n",
       "    </tr>\n",
       "    <tr>\n",
       "      <th>75%</th>\n",
       "      <td>118582.000000</td>\n",
       "      <td>14.841250</td>\n",
       "    </tr>\n",
       "    <tr>\n",
       "      <th>max</th>\n",
       "      <td>149908.000000</td>\n",
       "      <td>19.944000</td>\n",
       "    </tr>\n",
       "  </tbody>\n",
       "</table>\n",
       "</div>"
      ],
      "text/plain": [
       "              Salary     Bonus %\n",
       "count     995.000000  996.000000\n",
       "mean    90522.329648   10.215586\n",
       "std     32880.654889    5.532077\n",
       "min     35013.000000    1.015000\n",
       "25%     62412.500000    5.429500\n",
       "50%     90370.000000    9.850000\n",
       "75%    118582.000000   14.841250\n",
       "max    149908.000000   19.944000"
      ]
     },
     "execution_count": 43,
     "metadata": {},
     "output_type": "execute_result"
    }
   ],
   "source": [
    "df.describe()"
   ]
  },
  {
   "cell_type": "code",
   "execution_count": null,
   "id": "e91efda7",
   "metadata": {},
   "outputs": [],
   "source": [
    "#df[\"Salary\"].fillna(0, inplace=True)\n",
    "#this code changes the dataset, this will now clean all missing values in the salary"
   ]
  },
  {
   "cell_type": "code",
   "execution_count": 31,
   "id": "e66754dc",
   "metadata": {
    "scrolled": true
   },
   "outputs": [
    {
     "data": {
      "text/plain": [
       "0         Male\n",
       "1         Male\n",
       "2       Female\n",
       "3         Male\n",
       "4         Male\n",
       "        ...   \n",
       "995    unknown\n",
       "996       Male\n",
       "997       Male\n",
       "998       Male\n",
       "999       Male\n",
       "Name: Gender, Length: 1000, dtype: object"
      ]
     },
     "execution_count": 31,
     "metadata": {},
     "output_type": "execute_result"
    }
   ],
   "source": [
    "# Replace all unknown data with unknown\n",
    "df[\"Gender\"].fillna(\"unknown\")"
   ]
  },
  {
   "cell_type": "markdown",
   "id": "9c16b251",
   "metadata": {},
   "source": [
    "## Another way of dealing with missing if the values are close to each other\n"
   ]
  },
  {
   "cell_type": "code",
   "execution_count": 36,
   "id": "900594c3",
   "metadata": {},
   "outputs": [
    {
     "data": {
      "text/plain": [
       "0       97308.0\n",
       "1       61933.0\n",
       "2      130590.0\n",
       "3      101004.0\n",
       "4      101004.0\n",
       "         ...   \n",
       "995    132483.0\n",
       "996     42392.0\n",
       "997     96914.0\n",
       "998     60500.0\n",
       "999    129949.0\n",
       "Name: Salary, Length: 1000, dtype: float64"
      ]
     },
     "execution_count": 36,
     "metadata": {},
     "output_type": "execute_result"
    }
   ],
   "source": [
    "# Repalcing the missing data with the entry behind it, or \"ffill\" before it\n",
    "#This is useful if the data are close to each other.\n",
    "df[\"Salary\"].fillna(method=\"bfill\")"
   ]
  },
  {
   "cell_type": "code",
   "execution_count": 33,
   "id": "34328b95",
   "metadata": {},
   "outputs": [],
   "source": [
    "import seaborn as sns"
   ]
  },
  {
   "cell_type": "code",
   "execution_count": 34,
   "id": "6824f570",
   "metadata": {},
   "outputs": [
    {
     "data": {
      "text/plain": [
       "<Axes: xlabel='Salary', ylabel='Count'>"
      ]
     },
     "execution_count": 34,
     "metadata": {},
     "output_type": "execute_result"
    },
    {
     "data": {
      "image/png": "[encoded data removed]",
      "text/plain": [
       "<Figure size 640x480 with 1 Axes>"
      ]
     },
     "metadata": {},
     "output_type": "display_data"
    }
   ],
   "source": [
    "#Checking distribution of the salary variable\n",
    "#This distribution follow thesame patter so replacing it with mean, median and mode is justified \n",
    "sns.histplot(data=df, x=\"Salary\")"
   ]
  },
  {
   "cell_type": "code",
   "execution_count": 39,
   "id": "1d044c3a",
   "metadata": {},
   "outputs": [
    {
     "data": {
      "text/plain": [
       "0       97308.000000\n",
       "1       61933.000000\n",
       "2      130590.000000\n",
       "3       90522.329648\n",
       "4      101004.000000\n",
       "           ...      \n",
       "995    132483.000000\n",
       "996     42392.000000\n",
       "997     96914.000000\n",
       "998     60500.000000\n",
       "999    129949.000000\n",
       "Name: Salary, Length: 1000, dtype: float64"
      ]
     },
     "execution_count": 39,
     "metadata": {},
     "output_type": "execute_result"
    }
   ],
   "source": [
    "# Replacing missing value with mean of the column\n",
    "df[\"Salary\"].fillna(df[\"Salary\"].mean())"
   ]
  },
  {
   "cell_type": "code",
   "execution_count": 40,
   "id": "10a81bc2",
   "metadata": {},
   "outputs": [
    {
     "data": {
      "text/plain": [
       "<Axes: xlabel='Salary', ylabel='Count'>"
      ]
     },
     "execution_count": 40,
     "metadata": {},
     "output_type": "execute_result"
    },
    {
     "data": {
      "image/png": "[encoded data removed]",
      "text/plain": [
       "<Figure size 640x480 with 1 Axes>"
      ]
     },
     "metadata": {},
     "output_type": "display_data"
    }
   ],
   "source": [
    "#We can see data still matain its distribution \n",
    "sns.histplot(data=df, x=\"Salary\")"
   ]
  },
  {
   "cell_type": "code",
   "execution_count": 41,
   "id": "dae4f93e",
   "metadata": {},
   "outputs": [
    {
     "data": {
      "text/plain": [
       "0       97308.0\n",
       "1       61933.0\n",
       "2      130590.0\n",
       "3      115797.0\n",
       "4      101004.0\n",
       "         ...   \n",
       "995    132483.0\n",
       "996     42392.0\n",
       "997     96914.0\n",
       "998     60500.0\n",
       "999    129949.0\n",
       "Name: Salary, Length: 1000, dtype: float64"
      ]
     },
     "execution_count": 41,
     "metadata": {},
     "output_type": "execute_result"
    }
   ],
   "source": [
    "# Another method of dealing with null values \n",
    "df[\"Salary\"].interpolate(method=\"linear\", direction= \"forward\")"
   ]
  }
 ],
 "metadata": {
  "kernelspec": {
   "display_name": "Python 3 (ipykernel)",
   "language": "python",
   "name": "python3"
  },
  "language_info": {
   "codemirror_mode": {
    "name": "ipython",
    "version": 3
   },
   "file_extension": ".py",
   "mimetype": "text/x-python",
   "name": "python",
   "nbconvert_exporter": "python",
   "pygments_lexer": "ipython3",
   "version": "3.11.4"
  }
 },
 "nbformat": 4,
 "nbformat_minor": 5
}
